{
 "cells": [
  {
   "cell_type": "code",
   "execution_count": 195,
   "metadata": {},
   "outputs": [],
   "source": [
    "import numpy as np\n",
    "import random\n",
    "import matplotlib.pyplot as plt # makes plotting command available as plot.[name of command]\n",
    "from ipywidgets import interactive\n",
    "import scipy.stats\n",
    "from itertools import chain, combinations\n",
    "\n",
    "def powerset(iterable):\n",
    "    \"powerset([1,2,3]) --> () (1,) (2,) (3,) (1,2) (1,3) (2,3) (1,2,3)\"\n",
    "    s = list(iterable)\n",
    "    return chain.from_iterable(combinations(s, r) for r in range(len(s)+1))\n",
    "\n",
    "random.seed(\"Submission_group_8\")"
   ]
  },
  {
   "cell_type": "code",
   "execution_count": 225,
   "metadata": {},
   "outputs": [
    {
     "name": "stdout",
     "output_type": "stream",
     "text": [
      "[]\n",
      "[0]\n",
      "[1]\n",
      "[2]\n",
      "[0, 1]\n",
      "[0, 2]\n",
      "[1, 2]\n",
      "[0, 1, 2]\n"
     ]
    },
    {
     "data": {
      "text/plain": [
       "1.0"
      ]
     },
     "execution_count": 225,
     "metadata": {},
     "output_type": "execute_result"
    }
   ],
   "source": [
    "def evaluate_monomial(monomial, params):\n",
    "    \"\"\"\n",
    "    monomial=list of bools, size 2*n\n",
    "    params=list of bools, size n\n",
    "    \"\"\"\n",
    "    res=True\n",
    "    n=len(params)\n",
    "    for i in range(0,n):\n",
    "        if monomial[2*i]:\n",
    "            res= res and params[i]\n",
    "        if monomial[2*i+1]:\n",
    "            res= res and not params[i]                 \n",
    "    return res   \n",
    "        \n",
    "def generate_monomial(n):\n",
    "    k= random.randint(0,n)\n",
    "    res=[False for i in range(2*n)]\n",
    "    for j in random.sample([i for i in range(n)],k):\n",
    "        true_false=random.random()\n",
    "        if(true_false < 0.5):\n",
    "            res[2*j]=True\n",
    "        else:\n",
    "            res[2*j+1]=True\n",
    "    return res\n",
    "    \n",
    "def generate_example(n,c):\n",
    "    \"\"\"\n",
    "    input:\n",
    "        n=size of example\n",
    "        c=hidden monomial function\n",
    "    \"\"\"\n",
    "    res=[]\n",
    "    for i in range(n):\n",
    "        true_false=random.random()\n",
    "        if(true_false < 0.5):\n",
    "            res.append(True)\n",
    "        else:\n",
    "            res.append(False)\n",
    "    res.append(evaluate_monomial(c,res))\n",
    "    return res    \n",
    "\n",
    "def find_s_conjunctions(training_examples,n):\n",
    "    #print(training_examples)\n",
    "    h=[True for i in range(2*n)]\n",
    "    element_to_del=[]\n",
    "    for example in training_examples:\n",
    "        #print(h)\n",
    "        if(example[-1]!= evaluate_monomial(h,example[:-1])):\n",
    "            for i in range(n):\n",
    "                if(example[i]):\n",
    "                    h[2*i+1] = False\n",
    "                else:\n",
    "                    h[2*i] = False\n",
    "    return h\n",
    "\n",
    "def excercise_b(n,l,p,q):\n",
    "    \"\"\"\n",
    "    Runs the algorithm as specified in Task 4 ii)\n",
    "    In the sections introducing noise/inconsistensies I flip resp. duplicate with percentage\n",
    "    in the sense of expected Value. This is avoids the error of rounding the percentage but introduces variance.\n",
    "    Both methods get better with an increasing number of examples(Expected Value via the Law of large numbers,\n",
    "    rounding because the rounding error decreases)\n",
    "    Input:\n",
    "        n:size of examples/monomial\n",
    "        p:prob of noise\n",
    "        q:prob of inconsistency\n",
    "        l:number of examples\n",
    "    Output:\n",
    "        fraction of instances that are correctly classified\n",
    "    \"\"\"\n",
    "    c=generate_monomial(n)\n",
    "    examples=[generate_example(n,c)for i in range(l)]\n",
    "    #introduce noise and insistency\n",
    "    to_add=[]\n",
    "    for example in examples:\n",
    "        if(random.random()<p):\n",
    "            example[-1]=not example[-1]\n",
    "        if(random.random()<q):\n",
    "            to_add.append(example[:-1]+ [not example[-1]])\n",
    "    examples+=to_add\n",
    "    h=find_s_conjunctions(examples,n)\n",
    "    counter =0\n",
    "    power_set=list(powerset([i for i in range(n)]))\n",
    "    for item_name in power_set:\n",
    "        to_test=[False for i in range(n)]\n",
    "        for i in list(item_name):\n",
    "            to_test[i]=True\n",
    "        #print(to_test)\n",
    "        #sanity check: as h is the most specific hypothesis it mustn't be right if c is wrong\n",
    "        assert not(not evaluate_monomial(c,to_test)and evaluate_monomial(h,to_test))\n",
    "        if(evaluate_monomial(h,to_test)==evaluate_monomial(c,to_test)):\n",
    "            counter+=1\n",
    "    return counter/(2**n)\n",
    "            \n",
    "excercise_b(3,4,0,0)"
   ]
  },
  {
   "cell_type": "code",
   "execution_count": 226,
   "metadata": {},
   "outputs": [
    {
     "data": {
      "application/vnd.jupyter.widget-view+json": {
       "model_id": "d4958c192cd6473a90aa9eca41f1bdb0",
       "version_major": 2,
       "version_minor": 0
      },
      "text/plain": [
       "interactive(children=(IntSlider(value=500, description='k', max=1000, min=1), IntSlider(value=5, description='…"
      ]
     },
     "metadata": {},
     "output_type": "display_data"
    }
   ],
   "source": [
    "def plot(k,n,l,p,q):\n",
    "    \"\"\"\n",
    "    k=number of realizations\n",
    "    n=length of monomial\n",
    "    l=number of training examples\n",
    "    p=prob of noise\n",
    "    q=prob of inconsistency    \n",
    "    \"\"\"\n",
    "    data=[excercise_b(n,l,p,q) for i in range(k)]\n",
    "    abs_bars, bins = np.histogram(data,[i/2**n for i in range(2**n+2)])\n",
    "    #print(bins[:-1])\n",
    "    #print(abs_bars)\n",
    "    plt.bar(bins[:-1], abs_bars,width=1/2**n)\n",
    "    plt.axvline(np.array(data).mean(), color ='k', linestyle='dashed')\n",
    "    plt.axvline(np.array(data).std(),color ='r', linestyle='dashed')\n",
    "    plt.show\n",
    "interactive(plot, k=(1,1000,1), n=(1,10,1),l=(1,20,1), p=(0,1,0.01),q=(0,1,0.01))"
   ]
  },
  {
   "cell_type": "code",
   "execution_count": 227,
   "metadata": {},
   "outputs": [
    {
     "data": {
      "text/plain": [
       "<function matplotlib.pyplot.show(*args, **kw)>"
      ]
     },
     "execution_count": 227,
     "metadata": {},
     "output_type": "execute_result"
    },
    {
     "data": {
      "image/png": "[encoded data removed]",
      "text/plain": [
       "<Figure size 432x288 with 1 Axes>"
      ]
     },
     "metadata": {
      "needs_background": "light"
     },
     "output_type": "display_data"
    }
   ],
   "source": [
    "n=10\n",
    "p=0\n",
    "q=0\n",
    "k=100\n",
    "y_val=[]\n",
    "for l in range(2*n):\n",
    "    y_val.append(np.array([excercise_b(n,l+1,p,q) for i in range(k)]).mean())\n",
    "plt.plot([i+1 for i in range(2*n)],y_val)\n",
    "plt.xticks()\n",
    "plt.show"
   ]
  },
  {
   "cell_type": "code",
   "execution_count": null,
   "metadata": {},
   "outputs": [],
   "source": []
  }
 ],
 "metadata": {
  "kernelspec": {
   "display_name": "Python 3",
   "language": "python",
   "name": "python3"
  },
  "language_info": {
   "codemirror_mode": {
    "name": "ipython",
    "version": 3
   },
   "file_extension": ".py",
   "mimetype": "text/x-python",
   "name": "python",
   "nbconvert_exporter": "python",
   "pygments_lexer": "ipython3",
   "version": "3.7.3"
  }
 },
 "nbformat": 4,
 "nbformat_minor": 2
}
